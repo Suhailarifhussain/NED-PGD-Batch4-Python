{
  "nbformat": 4,
  "nbformat_minor": 0,
  "metadata": {
    "colab": {
      "provenance": [],
      "authorship_tag": "ABX9TyOCcI7NTnCUJLq9fowuR3GD",
      "include_colab_link": true
    },
    "kernelspec": {
      "name": "python3",
      "display_name": "Python 3"
    },
    "language_info": {
      "name": "python"
    }
  },
  "cells": [
    {
      "cell_type": "markdown",
      "metadata": {
        "id": "view-in-github",
        "colab_type": "text"
      },
      "source": [
        "<a href=\"https://colab.research.google.com/github/Suhailarifhussain/NED-PGD-Batch4-Python/blob/main/Midterm_Preparation_Python.ipynb\" target=\"_parent\"><img src=\"https://colab.research.google.com/assets/colab-badge.svg\" alt=\"Open In Colab\"/></a>"
      ]
    },
    {
      "cell_type": "code",
      "execution_count": 3,
      "metadata": {
        "id": "TkPsgddLcz9l",
        "colab": {
          "base_uri": "https://localhost:8080/"
        },
        "outputId": "9206b2fd-69e4-46a1-8bb8-fdbaa8c7ca05"
      },
      "outputs": [
        {
          "output_type": "stream",
          "name": "stdout",
          "text": [
            "500\n",
            "Pakistan\n",
            "500\n",
            "We love Pakistan\n",
            "500\n"
          ]
        }
      ],
      "source": [
        "a=500\n",
        "print(a)\n",
        "print(\"Pakistan\")\n",
        "print(a)\n",
        "print(\"We love Pakistan\")\n",
        "print(a)"
      ]
    },
    {
      "cell_type": "code",
      "source": [
        "a=500\n",
        "print(a,\"Pakistan\",a,\"we Love Pakistam\",a)\n"
      ],
      "metadata": {
        "colab": {
          "base_uri": "https://localhost:8080/"
        },
        "id": "lTxw_eWlqNrq",
        "outputId": "08b89490-ba06-445e-85e1-89a91068841d"
      },
      "execution_count": 4,
      "outputs": [
        {
          "output_type": "stream",
          "name": "stdout",
          "text": [
            "500 Pakistan 500 we Love Pakistam 500\n"
          ]
        }
      ]
    },
    {
      "cell_type": "code",
      "source": [
        "a=500\n",
        "print(a,\"Pakistan\",a,\"we Love Pakistam\",a, sep='\\n')\n"
      ],
      "metadata": {
        "colab": {
          "base_uri": "https://localhost:8080/"
        },
        "id": "qEsncEx_qmJG",
        "outputId": "904fba4d-6cf9-442c-eb1d-16c5cb8f912c"
      },
      "execution_count": 6,
      "outputs": [
        {
          "output_type": "stream",
          "name": "stdout",
          "text": [
            "500\n",
            "Pakistan\n",
            "500\n",
            "we Love Pakistam\n",
            "500\n"
          ]
        }
      ]
    },
    {
      "cell_type": "code",
      "source": [
        "name=\"Suhail arif\"\n",
        "father_name=\"Arif Hussain\"\n",
        "Weight=115\n",
        "\n",
        "\n",
        "print(\"NED Student Identity Card\")\n",
        "print(\"Name\", name)\n",
        "print(\"Father Name\",father_name)\n",
        "print(\"Weight\",Weight)\n",
        "\n",
        "\n"
      ],
      "metadata": {
        "colab": {
          "base_uri": "https://localhost:8080/"
        },
        "id": "s0DvHKobrQnj",
        "outputId": "9d96dede-988b-456a-a19d-1cb041ff1f38"
      },
      "execution_count": 7,
      "outputs": [
        {
          "output_type": "stream",
          "name": "stdout",
          "text": [
            "NED Student Identity Card\n",
            "Name Suhail arif\n",
            "Father Name Arif Hussain\n",
            "Weight 115\n"
          ]
        }
      ]
    },
    {
      "cell_type": "code",
      "source": [
        "print(name)\n",
        "print(father_name)\n",
        "print(Weight)\n"
      ],
      "metadata": {
        "colab": {
          "base_uri": "https://localhost:8080/"
        },
        "id": "aQuWgPy2s8Qo",
        "outputId": "0a8bf5c2-8988-466c-c1d0-bdc5a739f22b"
      },
      "execution_count": 14,
      "outputs": [
        {
          "output_type": "stream",
          "name": "stdout",
          "text": [
            "Suhail arif\n",
            "Arif Hussain\n",
            "115\n"
          ]
        }
      ]
    },
    {
      "cell_type": "code",
      "source": [
        "print(name)\n",
        "print(type(name))\n",
        "print(id(name))"
      ],
      "metadata": {
        "colab": {
          "base_uri": "https://localhost:8080/"
        },
        "id": "C1lQ6je2tRZM",
        "outputId": "a0f68776-f954-436f-cd32-f9cc01d6d136"
      },
      "execution_count": 15,
      "outputs": [
        {
          "output_type": "stream",
          "name": "stdout",
          "text": [
            "Suhail arif\n",
            "<class 'str'>\n",
            "139849693188656\n"
          ]
        }
      ]
    },
    {
      "cell_type": "code",
      "source": [
        "Weight=84.5\n",
        "print(Weight)\n",
        "print(type(Weight))\n",
        "print(id(Weight))"
      ],
      "metadata": {
        "colab": {
          "base_uri": "https://localhost:8080/"
        },
        "id": "wiI-wgllumsQ",
        "outputId": "dd0cece1-819e-428c-ea00-cfccf72edc04"
      },
      "execution_count": 20,
      "outputs": [
        {
          "output_type": "stream",
          "name": "stdout",
          "text": [
            "84.5\n",
            "<class 'float'>\n",
            "139850444771632\n"
          ]
        }
      ]
    },
    {
      "cell_type": "code",
      "source": [
        "a=True\n",
        "print(a)\n",
        "print(type(a))\n",
        "print(id(a))"
      ],
      "metadata": {
        "colab": {
          "base_uri": "https://localhost:8080/"
        },
        "id": "xw4Joo8Au0zv",
        "outputId": "b6f79ee1-4e98-41ab-bca3-99cabcd0fc66"
      },
      "execution_count": 21,
      "outputs": [
        {
          "output_type": "stream",
          "name": "stdout",
          "text": [
            "True\n",
            "<class 'bool'>\n",
            "9480544\n"
          ]
        }
      ]
    },
    {
      "cell_type": "code",
      "source": [
        "a=False\n",
        "print(a)\n",
        "print(type(a))\n",
        "print(id(a))\n"
      ],
      "metadata": {
        "colab": {
          "base_uri": "https://localhost:8080/"
        },
        "id": "HWauNI8IwU0c",
        "outputId": "6e9294b4-1f99-4577-f23d-979cb9e00978"
      },
      "execution_count": 22,
      "outputs": [
        {
          "output_type": "stream",
          "name": "stdout",
          "text": [
            "False\n",
            "<class 'bool'>\n",
            "9478112\n"
          ]
        }
      ]
    },
    {
      "cell_type": "code",
      "source": [],
      "metadata": {
        "id": "q9yp27tywqzL"
      },
      "execution_count": null,
      "outputs": []
    }
  ]
}