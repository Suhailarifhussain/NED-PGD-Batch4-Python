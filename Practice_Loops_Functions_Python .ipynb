{
 "cells": [
  {
   "cell_type": "markdown",
   "id": "d34fbcb7",
   "metadata": {},
   "source": [
    "# Loop\n",
    "\n",
    "*couter->condition->increament/decreament\n",
    "\n",
    "*while\n",
    "\n",
    "*for\n",
    "\n",
    "*loop controls\n",
    "    *break\n",
    "    *pass\n",
    "    *continue"
   ]
  },
  {
   "cell_type": "markdown",
   "id": "7c20fc75",
   "metadata": {},
   "source": [
    "# Infini Loop"
   ]
  },
  {
   "cell_type": "code",
   "execution_count": 29,
   "id": "cc13ae88",
   "metadata": {},
   "outputs": [],
   "source": [
    "while False:\n",
    "    print(\"Pakistan\")"
   ]
  },
  {
   "cell_type": "code",
   "execution_count": 30,
   "id": "82630b0b",
   "metadata": {},
   "outputs": [
    {
     "name": "stdout",
     "output_type": "stream",
     "text": [
      "0\n",
      "1\n",
      "2\n",
      "3\n",
      "4\n",
      "5\n",
      "6\n",
      "7\n",
      "8\n",
      "9\n",
      "10\n"
     ]
    }
   ],
   "source": [
    "counter = 0 #counter\n",
    "while counter < 11: # logic\n",
    "    print(counter)\n",
    "    counter +=1 # increament\n",
    "           "
   ]
  },
  {
   "cell_type": "code",
   "execution_count": 38,
   "id": "57cec62c",
   "metadata": {},
   "outputs": [
    {
     "name": "stdout",
     "output_type": "stream",
     "text": [
      "0\n",
      "10\n"
     ]
    }
   ],
   "source": [
    "counter = 0\n",
    "while counter < 15:\n",
    "    print(counter)\n",
    "    counter += 10      "
   ]
  },
  {
   "cell_type": "code",
   "execution_count": 37,
   "id": "eac6da26",
   "metadata": {},
   "outputs": [
    {
     "name": "stdout",
     "output_type": "stream",
     "text": [
      "100\n",
      "99\n",
      "98\n",
      "97\n",
      "96\n",
      "95\n",
      "94\n",
      "93\n",
      "92\n",
      "91\n",
      "90\n",
      "89\n",
      "88\n",
      "87\n",
      "86\n",
      "85\n",
      "84\n",
      "83\n",
      "82\n",
      "81\n",
      "80\n",
      "79\n",
      "78\n",
      "77\n",
      "76\n",
      "75\n",
      "74\n",
      "73\n",
      "72\n",
      "71\n",
      "70\n",
      "69\n",
      "68\n",
      "67\n",
      "66\n",
      "65\n",
      "64\n",
      "63\n",
      "62\n",
      "61\n",
      "60\n",
      "59\n",
      "58\n",
      "57\n",
      "56\n",
      "55\n",
      "54\n",
      "53\n",
      "52\n",
      "51\n",
      "50\n",
      "49\n",
      "48\n",
      "47\n",
      "46\n",
      "45\n",
      "44\n",
      "43\n",
      "42\n",
      "41\n",
      "40\n",
      "39\n",
      "38\n",
      "37\n",
      "36\n",
      "35\n",
      "34\n",
      "33\n",
      "32\n",
      "31\n",
      "30\n",
      "29\n",
      "28\n",
      "27\n",
      "26\n",
      "25\n",
      "24\n",
      "23\n",
      "22\n",
      "21\n"
     ]
    }
   ],
   "source": [
    "c = 100\n",
    "while c > 20: \n",
    "    print(c)\n",
    "    c -= 1"
   ]
  },
  {
   "cell_type": "code",
   "execution_count": 47,
   "id": "c6edca0b",
   "metadata": {},
   "outputs": [
    {
     "name": "stdout",
     "output_type": "stream",
     "text": [
      "2023\n",
      "2022\n",
      "2021\n",
      "2020\n",
      "2019\n",
      "2018\n",
      "2017\n",
      "2016\n",
      "2015\n",
      "2014\n",
      "2013\n",
      "2012\n",
      "2011\n",
      "2010\n",
      "2009\n",
      "2008\n",
      "2007\n",
      "2006\n",
      "2005\n",
      "2004\n",
      "2003\n",
      "2002\n",
      "2001\n"
     ]
    }
   ],
   "source": [
    "c = 2023\n",
    "while c > 2000:\n",
    "    print(c)\n",
    "    c -= 1"
   ]
  },
  {
   "cell_type": "code",
   "execution_count": 50,
   "id": "68b6a606",
   "metadata": {},
   "outputs": [
    {
     "name": "stdout",
     "output_type": "stream",
     "text": [
      "Arif Hussain\n",
      "Suhail Arif\n",
      "Salman Arif\n",
      "Sajid Arif\n",
      "Irfan Arif\n"
     ]
    }
   ],
   "source": [
    "names = [\"Arif Hussain\",\"Suhail Arif\",\"Salman Arif\",\"Sajid Arif\",\"Irfan Arif\"]\n",
    "i = 0\n",
    "while i< len(names):\n",
    "    print(names[i])\n",
    "    i += 1"
   ]
  },
  {
   "cell_type": "markdown",
   "id": "383adfb5",
   "metadata": {},
   "source": [
    "# for loop"
   ]
  },
  {
   "cell_type": "code",
   "execution_count": 53,
   "id": "8e816d0e",
   "metadata": {},
   "outputs": [
    {
     "name": "stdout",
     "output_type": "stream",
     "text": [
      "Arif Hussain\n",
      "Suhail Arif\n",
      "Salman Arif\n",
      "Sajid Arif\n",
      "Irfan Arif\n"
     ]
    }
   ],
   "source": [
    "names = [\"Arif Hussain\",\"Suhail Arif\",\"Salman Arif\",\"Sajid Arif\",\"Irfan Arif\"]\n",
    "for a in names:\n",
    "    print(a)"
   ]
  },
  {
   "cell_type": "code",
   "execution_count": 55,
   "id": "b6d995c0",
   "metadata": {},
   "outputs": [
    {
     "name": "stdout",
     "output_type": "stream",
     "text": [
      "National\n",
      "Allama Iqbal\n",
      "DJ Science\n",
      "Urdu Colloeg\n",
      "Superior Science\n"
     ]
    }
   ],
   "source": [
    "colleges = [\"National\",\"Allama Iqbal\",\"DJ Science\",\"Urdu Colloeg\",\"Superior Science\"]\n",
    "for c in colleges:\n",
    "    print(c)"
   ]
  },
  {
   "cell_type": "code",
   "execution_count": 56,
   "id": "bb69289f",
   "metadata": {},
   "outputs": [
    {
     "data": {
      "text/plain": [
       "[(0, 'National'),\n",
       " (1, 'Allama Iqbal'),\n",
       " (2, 'DJ Science'),\n",
       " (3, 'Urdu Colloeg'),\n",
       " (4, 'Superior Science')]"
      ]
     },
     "execution_count": 56,
     "metadata": {},
     "output_type": "execute_result"
    }
   ],
   "source": [
    "colleges = [\"National\",\"Allama Iqbal\",\"DJ Science\",\"Urdu Colloeg\",\"Superior Science\"]\n",
    "list(enumerate(colleges))"
   ]
  },
  {
   "cell_type": "code",
   "execution_count": 66,
   "id": "8d981983",
   "metadata": {},
   "outputs": [
    {
     "data": {
      "text/plain": [
       "['National', 'Allama Iqbal', 'DJ Science', 'Urdu Colloeg', 'Superior Science']"
      ]
     },
     "execution_count": 66,
     "metadata": {},
     "output_type": "execute_result"
    }
   ],
   "source": [
    "colleges = [\"National\",\"Allama Iqbal\",\"DJ Science\",\"Urdu Colloeg\",\"Superior Science\"]\n",
    "list(colleges)\n"
   ]
  },
  {
   "cell_type": "code",
   "execution_count": 69,
   "id": "d62ef9d1",
   "metadata": {},
   "outputs": [
    {
     "name": "stdout",
     "output_type": "stream",
     "text": [
      "0 Suhail\n"
     ]
    }
   ],
   "source": [
    "idx, name = (0,'Suhail')\n",
    "print(idx, name)"
   ]
  },
  {
   "cell_type": "code",
   "execution_count": 75,
   "id": "e5d758a1",
   "metadata": {},
   "outputs": [
    {
     "name": "stdout",
     "output_type": "stream",
     "text": [
      "Student Roll no: 0 and his/her Name: Arif\n",
      "Student Roll no: 1 and his/her Name: Suhail\n",
      "Student Roll no: 2 and his/her Name: Salman\n",
      "Student Roll no: 3 and his/her Name: Sajid\n",
      "Student Roll no: 4 and his/her Name: Irfan\n"
     ]
    }
   ],
   "source": [
    "names = [\"Arif\",\"Suhail\",\"Salman\",\"Sajid\",\"Irfan\"]\n",
    "for idx, names in enumerate(names):\n",
    "    print(f\"Student Roll no: {idx} and his/her Name: {names}\")"
   ]
  },
  {
   "cell_type": "code",
   "execution_count": 76,
   "id": "d3507182",
   "metadata": {},
   "outputs": [
    {
     "name": "stdout",
     "output_type": "stream",
     "text": [
      "1\n"
     ]
    }
   ],
   "source": [
    "i = 1\n",
    "while i<100000:\n",
    "    print(i)\n",
    "    i+=1\n",
    "    break"
   ]
  },
  {
   "cell_type": "code",
   "execution_count": 84,
   "id": "7afbc448",
   "metadata": {},
   "outputs": [
    {
     "name": "stdout",
     "output_type": "stream",
     "text": [
      "140\n"
     ]
    }
   ],
   "source": [
    "i = 1\n",
    "while i < 1000000:\n",
    "    if i % 5 == 0 and i % 7 == 0 and i % 20 == 0:\n",
    "        print(i)\n",
    "        break\n",
    "    i += 1"
   ]
  },
  {
   "cell_type": "code",
   "execution_count": 86,
   "id": "61bc3196",
   "metadata": {},
   "outputs": [
    {
     "data": {
      "text/plain": [
       "2"
      ]
     },
     "execution_count": 86,
     "metadata": {},
     "output_type": "execute_result"
    }
   ],
   "source": [
    "i = 7\n",
    "i % 5"
   ]
  },
  {
   "cell_type": "code",
   "execution_count": 88,
   "id": "ba97ae6d",
   "metadata": {},
   "outputs": [
    {
     "name": "stdout",
     "output_type": "stream",
     "text": [
      "0\n",
      "1\n",
      "2\n",
      "3\n",
      "4\n",
      "5\n",
      "6\n",
      "7\n"
     ]
    }
   ],
   "source": [
    "i = 0 \n",
    "while i < 11:\n",
    "    print(i)\n",
    "    if i == 7:\n",
    "        break\n",
    "    i += 1"
   ]
  },
  {
   "cell_type": "code",
   "execution_count": 91,
   "id": "92bde801",
   "metadata": {},
   "outputs": [
    {
     "name": "stdout",
     "output_type": "stream",
     "text": [
      "0\n",
      "1\n",
      "2\n",
      "3\n",
      "4\n",
      "5\n",
      "6\n",
      "7\n",
      "8\n",
      "9\n",
      "11\n",
      "12\n",
      "13\n",
      "14\n",
      "15\n",
      "16\n",
      "17\n",
      "18\n",
      "19\n"
     ]
    }
   ],
   "source": [
    "for i in range(20):\n",
    "    if i == 10:\n",
    "        continue\n",
    "    print(i)"
   ]
  },
  {
   "cell_type": "code",
   "execution_count": 97,
   "id": "8b46a674",
   "metadata": {},
   "outputs": [
    {
     "name": "stdout",
     "output_type": "stream",
     "text": [
      "enter any Entry. type 'exit' to stop!Ali\n",
      "enter any Entry. type 'exit' to stop!Khalid\n",
      "enter any Entry. type 'exit' to stop!mustaq\n",
      "enter any Entry. type 'exit' to stop!naeem\n",
      "enter any Entry. type 'exit' to stop!Khursheed\n",
      "enter any Entry. type 'exit' to stop!Mukhtar\n",
      "enter any Entry. type 'exit' to stop!exite\n"
     ]
    }
   ],
   "source": [
    "name = []\n",
    "while True:\n",
    "    nm = input(\"enter any Entry. type 'exit' to stop!\")\n",
    "    if nm == \"exite\":\n",
    "        break\n",
    "    name.append(nm)"
   ]
  },
  {
   "cell_type": "code",
   "execution_count": 102,
   "id": "a2359002",
   "metadata": {},
   "outputs": [
    {
     "name": "stdout",
     "output_type": "stream",
     "text": [
      "['Ali', 'Khalid', 'mustaq', 'naeem', 'Khursheed', 'Mukhtar']\n"
     ]
    }
   ],
   "source": [
    "print(name)"
   ]
  },
  {
   "cell_type": "code",
   "execution_count": 100,
   "id": "e2c2ea84",
   "metadata": {},
   "outputs": [
    {
     "data": {
      "text/plain": [
       "['Ali', 'Khalid', 'mustaq', 'naeem', 'Khursheed', 'Mukhtar']"
      ]
     },
     "execution_count": 100,
     "metadata": {},
     "output_type": "execute_result"
    }
   ],
   "source": [
    "name\n"
   ]
  },
  {
   "cell_type": "code",
   "execution_count": null,
   "id": "02d5edbf",
   "metadata": {},
   "outputs": [],
   "source": []
  }
 ],
 "metadata": {
  "kernelspec": {
   "display_name": "Python 3 (ipykernel)",
   "language": "python",
   "name": "python3"
  },
  "language_info": {
   "codemirror_mode": {
    "name": "ipython",
    "version": 3
   },
   "file_extension": ".py",
   "mimetype": "text/x-python",
   "name": "python",
   "nbconvert_exporter": "python",
   "pygments_lexer": "ipython3",
   "version": "3.9.13"
  }
 },
 "nbformat": 4,
 "nbformat_minor": 5
}
