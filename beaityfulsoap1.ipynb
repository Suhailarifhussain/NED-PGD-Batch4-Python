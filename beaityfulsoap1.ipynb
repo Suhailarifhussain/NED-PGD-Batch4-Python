{
  "nbformat": 4,
  "nbformat_minor": 0,
  "metadata": {
    "colab": {
      "provenance": [],
      "authorship_tag": "ABX9TyNNInkr/g3wJLoTotV/UVlj",
      "include_colab_link": true
    },
    "kernelspec": {
      "name": "python3",
      "display_name": "Python 3"
    },
    "language_info": {
      "name": "python"
    }
  },
  "cells": [
    {
      "cell_type": "markdown",
      "metadata": {
        "id": "view-in-github",
        "colab_type": "text"
      },
      "source": [
        "<a href=\"https://colab.research.google.com/github/Suhailarifhussain/NED-PGD-Batch4-Python/blob/main/beaityfulsoap1.ipynb\" target=\"_parent\"><img src=\"https://colab.research.google.com/assets/colab-badge.svg\" alt=\"Open In Colab\"/></a>"
      ]
    },
    {
      "cell_type": "code",
      "execution_count": 1,
      "metadata": {
        "id": "hTieskWOzsLT"
      },
      "outputs": [],
      "source": []
    },
    {
      "cell_type": "code",
      "source": [
        "import urllib.request   # not urllib - important!\n",
        "url_text = urllib.request.urlopen('https://www.w3schools.com/')\n",
        "print(type(url_text))\n",
        "\n",
        "from bs4 import BeautifulSoup\n",
        "live_web = BeautifulSoup(url_text,'html.parser')\n",
        "print(live_web.prettify())"
      ],
      "metadata": {
        "id": "NSX8r3lw0oFq"
      },
      "execution_count": null,
      "outputs": []
    },
    {
      "cell_type": "code",
      "source": [
        "l1 = live_web.find_all(\"a\")\n",
        "print(len(l1))"
      ],
      "metadata": {
        "colab": {
          "base_uri": "https://localhost:8080/"
        },
        "id": "0X4I2G0e1V9A",
        "outputId": "aa1bfcd1-2256-490c-c39a-d8c50104c167"
      },
      "execution_count": 7,
      "outputs": [
        {
          "output_type": "stream",
          "name": "stdout",
          "text": [
            "597\n"
          ]
        }
      ]
    },
    {
      "cell_type": "code",
      "source": [
        "df_l = "
      ],
      "metadata": {
        "id": "rw2FYRz33qf6"
      },
      "execution_count": null,
      "outputs": []
    }
  ]
}